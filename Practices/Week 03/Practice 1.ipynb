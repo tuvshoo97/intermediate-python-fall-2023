{
 "cells": [
  {
   "cell_type": "markdown",
   "id": "f1a04536-8a07-42f3-b74c-72bd8f89ee63",
   "metadata": {},
   "source": [
    "# Object Oriented Programming Exercises\n",
    "\n",
    "Complete these exercises to test your skills!"
   ]
  },
  {
   "cell_type": "markdown",
   "id": "6be0dd52-0255-4085-a6a3-9e5ad978399c",
   "metadata": {},
   "source": [
    "## Exercise #1\n",
    "\n",
    "<!-- Create a class named \"Car\" that has two properties, **manufacturer** and **model**. -->\n",
    "* Create a class named *Vehicle* that has two properties, **vtype** and **made_year**\n",
    "* Create `__str__()` method to print out the **vtype** and **made_year**"
   ]
  },
  {
   "cell_type": "code",
   "execution_count": 103,
   "id": "5357465e-4a1f-4b29-a748-482024a16dd6",
   "metadata": {},
   "outputs": [],
   "source": [
    "class Vehicle:\n",
    "    def __init__(self, vtype, made_year,*args, **kwargs):\n",
    "        self.vtype = vtype\n",
    "        self.made_year = made_year\n",
    "    def __str__(self):\n",
    "        return f'Vehicle type is {self.vtype} and made in {self.made_year}'\n",
    "        \n",
    "        "
   ]
  },
  {
   "cell_type": "code",
   "execution_count": 104,
   "id": "1c4428da-16ed-4054-9a87-e01943d53a30",
   "metadata": {},
   "outputs": [],
   "source": [
    "red = Vehicle('sedan',2006)"
   ]
  },
  {
   "cell_type": "code",
   "execution_count": 105,
   "id": "654a5b1b-0ac6-435e-8cef-9e1ebb9788fd",
   "metadata": {},
   "outputs": [
    {
     "data": {
      "text/plain": [
       "'Vehicle type is sedan and made in 2006'"
      ]
     },
     "execution_count": 105,
     "metadata": {},
     "output_type": "execute_result"
    }
   ],
   "source": [
    "red.__str__()"
   ]
  },
  {
   "cell_type": "code",
   "execution_count": 106,
   "id": "ee54d387-7171-419f-8f35-b00bf909e698",
   "metadata": {},
   "outputs": [
    {
     "data": {
      "text/plain": [
       "'<__main__.Vehicle object at 0x1113cd370>'"
      ]
     },
     "execution_count": 106,
     "metadata": {},
     "output_type": "execute_result"
    }
   ],
   "source": [
    "red.__repr__()"
   ]
  },
  {
   "cell_type": "markdown",
   "id": "afe89b8d-3518-4925-8182-3f0ceec04ec0",
   "metadata": {},
   "source": [
    "## Exercise #2\n",
    "\n",
    "<!-- Create a child class named **Car** that inherits **Vehicle** class -->\n",
    "* Create a child class named **Car** that inherits a **Vehicle** and has two properties **manufacturer** and **model**.\n",
    "* Create `__str__()` method to print out the **vtype**, **made_year**, **manufacturer** and **model**"
   ]
  },
  {
   "cell_type": "code",
   "execution_count": 117,
   "id": "9b9168bc-0964-407b-8645-75dab95985d7",
   "metadata": {},
   "outputs": [],
   "source": [
    "class Car(Vehicle):\n",
    "    def __init__(self, vtype, made_year, manufacturer, model):\n",
    "        super().__init__(vtype, made_year)\n",
    "        self.manufacturer = manufacturer\n",
    "        self.model = model\n",
    "    def __str__(self):\n",
    "        print(f'Manufacturer: {self.manufacturer} \\nModel: {self.model} \\nType: {self.vtype} \\nManufatured year: {self.made_year}')"
   ]
  },
  {
   "cell_type": "code",
   "execution_count": 118,
   "id": "172da666-9f95-4211-9df2-02f783828c03",
   "metadata": {},
   "outputs": [],
   "source": [
    "prius = Car('Hybrid-Sedan',2023,'Toyota','Prius')"
   ]
  },
  {
   "cell_type": "code",
   "execution_count": 119,
   "id": "6ad79573-e835-4f7f-9d7c-e302de5f837e",
   "metadata": {},
   "outputs": [
    {
     "name": "stdout",
     "output_type": "stream",
     "text": [
      "Manufacturer: Toyota \n",
      "Model: Prius \n",
      "Type: Hybrid-Sedan \n",
      "Manufatured year: 2023\n"
     ]
    }
   ],
   "source": [
    "prius.__str__()"
   ]
  },
  {
   "cell_type": "markdown",
   "id": "3364303e-1f8a-4922-92c0-39c4c752bf51",
   "metadata": {},
   "source": [
    "## Exercise #3\n",
    "\n",
    "Instantiate **Car** class and call the **__str__** method.\n",
    "\n",
    "Example: calling **Car** class with \"toyota\" and \"Highlander\" should print out the following:\n",
    "```\n",
    "Type is:  SUV\n",
    "Made year is:  2015\n",
    "Manufacturer is:  toyota\n",
    "Model is:  Highlander\n",
    "```"
   ]
  },
  {
   "cell_type": "code",
   "execution_count": 120,
   "id": "d8850031-f1f4-413d-acd2-48e061db2e73",
   "metadata": {},
   "outputs": [],
   "source": [
    "suv = Car('SUV',2015,'Toyota','Highlander')"
   ]
  },
  {
   "cell_type": "code",
   "execution_count": 121,
   "id": "0378be28-6301-438c-8aaa-87ae0698852c",
   "metadata": {},
   "outputs": [
    {
     "name": "stdout",
     "output_type": "stream",
     "text": [
      "Manufacturer: Toyota \n",
      "Model: Highlander \n",
      "Type: SUV \n",
      "Manufatured year: 2015\n"
     ]
    }
   ],
   "source": [
    "suv.__str__()"
   ]
  },
  {
   "cell_type": "code",
   "execution_count": null,
   "id": "c4904ea3-603c-4fc0-b137-d6c1ca17d8a7",
   "metadata": {},
   "outputs": [],
   "source": []
  }
 ],
 "metadata": {
  "kernelspec": {
   "display_name": "Python 3",
   "language": "python",
   "name": "python3"
  },
  "language_info": {
   "codemirror_mode": {
    "name": "ipython",
    "version": 3
   },
   "file_extension": ".py",
   "mimetype": "text/x-python",
   "name": "python",
   "nbconvert_exporter": "python",
   "pygments_lexer": "ipython3",
   "version": "3.8.12"
  }
 },
 "nbformat": 4,
 "nbformat_minor": 5
}
