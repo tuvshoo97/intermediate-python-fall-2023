{
 "cells": [
  {
   "cell_type": "markdown",
   "id": "3d7a1c77-0fec-400f-9507-e2f10d08abc5",
   "metadata": {
    "tags": []
   },
   "source": [
    "# Scraping `zangia.mn`\n",
    "* You need to import `pandas`, `requests` and `BeautifulSoup`"
   ]
  },
  {
   "cell_type": "code",
   "execution_count": 33,
   "id": "a2882d7b-3416-474c-a99d-0d445c1c58f8",
   "metadata": {},
   "outputs": [],
   "source": [
    "import pandas as pd\n",
    "import requests\n",
    "from bs4 import BeautifulSoup\n",
    "import statistics"
   ]
  },
  {
   "cell_type": "markdown",
   "id": "0fca01f5-7995-46b3-8849-953231d6dec1",
   "metadata": {
    "tags": []
   },
   "source": [
    "### Exercise 1: Scrape `zangia.mn` page#1\n",
    "* Make a dataframe using `Мэдээлэл технологи, Харилцаа холбоо` category `https://www.zangia.mn/job/list/pg.1/b.4`.\n",
    "* Get job listings from page 1.\n",
    "  * DataFrame should include columns: `job_title`, `salary`. \n",
    "  * Remove the row if `salary` text contains `Тохиролцоно`. \n",
    "    * *Hint*: Loop over the df and use `in` and `drop` methods.\n",
    "  * Take salary as 5000000 if `salary` text contains `5,000,000 -ааc дээш`\n",
    "  * Import statistics library\n",
    "  * Get the median salary using statistics library if there is a salary range. Example: 2,500,000-3,500,000 should be 3000000. \n",
    "    * Use string replace method to remove comma from numbers.\n",
    "    * *Hint*: Use string split method to get the numbers. \n",
    "  * Make a histogram plot using the `salary`.  \n"
   ]
  },
  {
   "cell_type": "code",
   "execution_count": 3,
   "id": "aa899bcc-d456-44af-b385-96aa18fbcaaa",
   "metadata": {},
   "outputs": [],
   "source": [
    "# Your code\n",
    "response = requests.get(\"https://www.zangia.mn/job/list/pg.1/b.4\")\n",
    "soup = BeautifulSoup(response.content)\n"
   ]
  },
  {
   "cell_type": "code",
   "execution_count": 5,
   "id": "0da03977-d641-48d0-9694-3fc64271e2a6",
   "metadata": {},
   "outputs": [],
   "source": [
    "ads = soup.find_all(\"div\", {\"class\": \"ad\"})"
   ]
  },
  {
   "cell_type": "code",
   "execution_count": 9,
   "id": "434f985f-6190-4c9a-a888-6823b9b2d689",
   "metadata": {},
   "outputs": [
    {
     "data": {
      "text/plain": [
       "'ТӨЛӨВЛӨЛТИЙН ИНЖЕНЕР'"
      ]
     },
     "execution_count": 9,
     "metadata": {},
     "output_type": "execute_result"
    }
   ],
   "source": [
    "ads[0].find('b').get_text()"
   ]
  },
  {
   "cell_type": "code",
   "execution_count": 13,
   "id": "36d53af6-6f0b-49d6-ac88-4d3a683c0de9",
   "metadata": {},
   "outputs": [],
   "source": [
    "job_titles = []\n",
    "for ad in ads:\n",
    "    job_title = ad.find('b').get_text()\n",
    "    # print(job_title)\n",
    "    job_titles.append(job_title)"
   ]
  },
  {
   "cell_type": "code",
   "execution_count": 17,
   "id": "6f13a11e-df05-4634-ad51-d4a4cb05eb42",
   "metadata": {},
   "outputs": [
    {
     "data": {
      "text/plain": [
       "'2,500,000 - 3,000,000'"
      ]
     },
     "execution_count": 17,
     "metadata": {},
     "output_type": "execute_result"
    }
   ],
   "source": [
    "ads[0].find('span', {\"class\": \"fsal\"}).get_text() "
   ]
  },
  {
   "cell_type": "code",
   "execution_count": 18,
   "id": "27ed5895-e641-4d60-bb36-191a205ec0d2",
   "metadata": {},
   "outputs": [],
   "source": [
    "job_salaries = []\n",
    "for ad in ads:\n",
    "    job_salary = ad.find('span', {\"class\": \"fsal\"}).get_text()\n",
    "    job_salaries.append(job_salary)"
   ]
  },
  {
   "cell_type": "code",
   "execution_count": 19,
   "id": "4554f45d-870e-429f-b4c6-3f6e8932a4d2",
   "metadata": {},
   "outputs": [],
   "source": [
    "df = pd.DataFrame({\"job_titles\": job_titles, \"job_salary\": job_salaries})"
   ]
  },
  {
   "cell_type": "code",
   "execution_count": 21,
   "id": "a988e034-49e0-402d-95c6-dddf0ec74ff1",
   "metadata": {},
   "outputs": [
    {
     "data": {
      "text/html": [
       "<div>\n",
       "<style scoped>\n",
       "    .dataframe tbody tr th:only-of-type {\n",
       "        vertical-align: middle;\n",
       "    }\n",
       "\n",
       "    .dataframe tbody tr th {\n",
       "        vertical-align: top;\n",
       "    }\n",
       "\n",
       "    .dataframe thead th {\n",
       "        text-align: right;\n",
       "    }\n",
       "</style>\n",
       "<table border=\"1\" class=\"dataframe\">\n",
       "  <thead>\n",
       "    <tr style=\"text-align: right;\">\n",
       "      <th></th>\n",
       "      <th>job_titles</th>\n",
       "      <th>job_salary</th>\n",
       "    </tr>\n",
       "  </thead>\n",
       "  <tbody>\n",
       "    <tr>\n",
       "      <th>0</th>\n",
       "      <td>ТӨЛӨВЛӨЛТИЙН ИНЖЕНЕР</td>\n",
       "      <td>2,500,000 - 3,000,000</td>\n",
       "    </tr>\n",
       "    <tr>\n",
       "      <th>1</th>\n",
       "      <td>Худалдааны зөвлөх</td>\n",
       "      <td>1,500,000 - 1,800,000</td>\n",
       "    </tr>\n",
       "    <tr>\n",
       "      <th>2</th>\n",
       "      <td>Оффис менежер</td>\n",
       "      <td>1,500,000 - 1,800,000 Тохиролцоно</td>\n",
       "    </tr>\n",
       "    <tr>\n",
       "      <th>3</th>\n",
       "      <td>ЦАГИЙН АЖИЛ /ТЭСО ИНВЕСТМЭНТ ХХК/</td>\n",
       "      <td>500,000 - 600,000</td>\n",
       "    </tr>\n",
       "    <tr>\n",
       "      <th>4</th>\n",
       "      <td>МЭДЭЭЛЭЛ ТЕХНОЛОГИЙН АЖИЛТАН</td>\n",
       "      <td>1,500,000 - 1,800,000</td>\n",
       "    </tr>\n",
       "  </tbody>\n",
       "</table>\n",
       "</div>"
      ],
      "text/plain": [
       "                          job_titles                         job_salary\n",
       "0               ТӨЛӨВЛӨЛТИЙН ИНЖЕНЕР              2,500,000 - 3,000,000\n",
       "1                  Худалдааны зөвлөх              1,500,000 - 1,800,000\n",
       "2                      Оффис менежер  1,500,000 - 1,800,000 Тохиролцоно\n",
       "3  ЦАГИЙН АЖИЛ /ТЭСО ИНВЕСТМЭНТ ХХК/                  500,000 - 600,000\n",
       "4       МЭДЭЭЛЭЛ ТЕХНОЛОГИЙН АЖИЛТАН              1,500,000 - 1,800,000"
      ]
     },
     "execution_count": 21,
     "metadata": {},
     "output_type": "execute_result"
    }
   ],
   "source": [
    "df.head()"
   ]
  },
  {
   "cell_type": "code",
   "execution_count": 31,
   "id": "774a0cef-6378-4411-81db-8b1a77935418",
   "metadata": {},
   "outputs": [],
   "source": [
    "for i in range(len(df)):\n",
    "    if \"Тохиролцоно\" in df['job_salary'][i]:\n",
    "        df.drop(i, inplace=True)\n",
    "        # df = df.drop(i)\n",
    "\n",
    "    if \"5,000,000 -ааc дээш\" in df['job_salary'][i]:\n",
    "        df['job_salary'][i] = 5_000_000\n"
   ]
  },
  {
   "cell_type": "code",
   "execution_count": 32,
   "id": "1742550c-719e-40d6-bd9d-c93b71b4c8dd",
   "metadata": {},
   "outputs": [],
   "source": [
    "df = df.reset_index(drop=True)"
   ]
  },
  {
   "cell_type": "code",
   "execution_count": 44,
   "id": "a6224941-8ad4-46e0-8ab7-1c2d21e241bb",
   "metadata": {},
   "outputs": [
    {
     "data": {
      "text/plain": [
       "2500000"
      ]
     },
     "execution_count": 44,
     "metadata": {},
     "output_type": "execute_result"
    }
   ],
   "source": [
    "int(df['job_salary'][0].split('-')[0].replace(',', ''))"
   ]
  },
  {
   "cell_type": "code",
   "execution_count": 46,
   "id": "8a369180-10c4-487c-b626-2cfc93b3d8cd",
   "metadata": {},
   "outputs": [],
   "source": [
    "for i in range(len(df)):\n",
    "    lower_sal = int(df['job_salary'][i].split('-')[0].replace(',', ''))\n",
    "    upper_sal = int(df['job_salary'][i].split('-')[1].replace(',', ''))\n",
    "\n",
    "    median_sal = statistics.median([lower_sal, upper_sal])\n",
    "    # print(median_sal)\n",
    "    df['job_salary'][i] = median_sal\n"
   ]
  },
  {
   "cell_type": "code",
   "execution_count": 47,
   "id": "16c45d9f-0860-486c-aa20-b751b424f788",
   "metadata": {},
   "outputs": [
    {
     "data": {
      "text/html": [
       "<div>\n",
       "<style scoped>\n",
       "    .dataframe tbody tr th:only-of-type {\n",
       "        vertical-align: middle;\n",
       "    }\n",
       "\n",
       "    .dataframe tbody tr th {\n",
       "        vertical-align: top;\n",
       "    }\n",
       "\n",
       "    .dataframe thead th {\n",
       "        text-align: right;\n",
       "    }\n",
       "</style>\n",
       "<table border=\"1\" class=\"dataframe\">\n",
       "  <thead>\n",
       "    <tr style=\"text-align: right;\">\n",
       "      <th></th>\n",
       "      <th>job_titles</th>\n",
       "      <th>job_salary</th>\n",
       "    </tr>\n",
       "  </thead>\n",
       "  <tbody>\n",
       "    <tr>\n",
       "      <th>0</th>\n",
       "      <td>ТӨЛӨВЛӨЛТИЙН ИНЖЕНЕР</td>\n",
       "      <td>2750000.0</td>\n",
       "    </tr>\n",
       "    <tr>\n",
       "      <th>1</th>\n",
       "      <td>Худалдааны зөвлөх</td>\n",
       "      <td>1650000.0</td>\n",
       "    </tr>\n",
       "    <tr>\n",
       "      <th>2</th>\n",
       "      <td>ЦАГИЙН АЖИЛ /ТЭСО ИНВЕСТМЭНТ ХХК/</td>\n",
       "      <td>550000.0</td>\n",
       "    </tr>\n",
       "    <tr>\n",
       "      <th>3</th>\n",
       "      <td>МЭДЭЭЛЭЛ ТЕХНОЛОГИЙН АЖИЛТАН</td>\n",
       "      <td>1650000.0</td>\n",
       "    </tr>\n",
       "    <tr>\n",
       "      <th>4</th>\n",
       "      <td>IT System Analyst</td>\n",
       "      <td>2750000.0</td>\n",
       "    </tr>\n",
       "    <tr>\n",
       "      <th>5</th>\n",
       "      <td>Холбоо дохиололийн инженер</td>\n",
       "      <td>1650000.0</td>\n",
       "    </tr>\n",
       "    <tr>\n",
       "      <th>6</th>\n",
       "      <td>Мэдээллийн аюулгүй байдлын шинжээч</td>\n",
       "      <td>3500000.0</td>\n",
       "    </tr>\n",
       "    <tr>\n",
       "      <th>7</th>\n",
       "      <td>Төслийн менежер</td>\n",
       "      <td>1650000.0</td>\n",
       "    </tr>\n",
       "    <tr>\n",
       "      <th>8</th>\n",
       "      <td>Төслийн менежер</td>\n",
       "      <td>1650000.0</td>\n",
       "    </tr>\n",
       "    <tr>\n",
       "      <th>9</th>\n",
       "      <td>ГРАФИК ДИЗАЙНЕР АЖИЛД АВНА.</td>\n",
       "      <td>2750000.0</td>\n",
       "    </tr>\n",
       "    <tr>\n",
       "      <th>10</th>\n",
       "      <td>Оператор</td>\n",
       "      <td>1350000.0</td>\n",
       "    </tr>\n",
       "    <tr>\n",
       "      <th>11</th>\n",
       "      <td>Сүлжээний инженер</td>\n",
       "      <td>2750000.0</td>\n",
       "    </tr>\n",
       "    <tr>\n",
       "      <th>12</th>\n",
       "      <td>ПРОГРАМ ХӨГЖҮҮЛЭГЧ</td>\n",
       "      <td>3500000.0</td>\n",
       "    </tr>\n",
       "    <tr>\n",
       "      <th>13</th>\n",
       "      <td>Тестэр /Коор майнд ХХК/</td>\n",
       "      <td>1650000.0</td>\n",
       "    </tr>\n",
       "    <tr>\n",
       "      <th>14</th>\n",
       "      <td>Мэдээлэл технологийн ажилтан /support/</td>\n",
       "      <td>1350000.0</td>\n",
       "    </tr>\n",
       "    <tr>\n",
       "      <th>15</th>\n",
       "      <td>ПиАр мэргэжилтэн</td>\n",
       "      <td>1950000.0</td>\n",
       "    </tr>\n",
       "    <tr>\n",
       "      <th>16</th>\n",
       "      <td>Шийдлийн инженер</td>\n",
       "      <td>2300000.0</td>\n",
       "    </tr>\n",
       "    <tr>\n",
       "      <th>17</th>\n",
       "      <td>Суурилуулалтын инженер</td>\n",
       "      <td>1950000.0</td>\n",
       "    </tr>\n",
       "    <tr>\n",
       "      <th>18</th>\n",
       "      <td>Хөгжүүлэгч /Backend/</td>\n",
       "      <td>3500000.0</td>\n",
       "    </tr>\n",
       "    <tr>\n",
       "      <th>19</th>\n",
       "      <td>Программ хангамжийн архитектор</td>\n",
       "      <td>5500000.0</td>\n",
       "    </tr>\n",
       "    <tr>\n",
       "      <th>20</th>\n",
       "      <td>Онлайн оператор (эмэгтэй)</td>\n",
       "      <td>1100000.0</td>\n",
       "    </tr>\n",
       "    <tr>\n",
       "      <th>21</th>\n",
       "      <td>IT инженер (Өмнөговь салбар)</td>\n",
       "      <td>1650000.0</td>\n",
       "    </tr>\n",
       "    <tr>\n",
       "      <th>22</th>\n",
       "      <td>ПРОГРАММ ТЕСТЛЭГЧ</td>\n",
       "      <td>1350000.0</td>\n",
       "    </tr>\n",
       "    <tr>\n",
       "      <th>23</th>\n",
       "      <td>Дотоод аудитор /Мэдээлэл технологи/</td>\n",
       "      <td>2750000.0</td>\n",
       "    </tr>\n",
       "    <tr>\n",
       "      <th>24</th>\n",
       "      <td>Төслийн менежер ажилд авна. /Солонгос хэлтэй/</td>\n",
       "      <td>1950000.0</td>\n",
       "    </tr>\n",
       "    <tr>\n",
       "      <th>25</th>\n",
       "      <td>Back end developer</td>\n",
       "      <td>2300000.0</td>\n",
       "    </tr>\n",
       "    <tr>\n",
       "      <th>26</th>\n",
       "      <td>Захиргааны мэргэжилтэн</td>\n",
       "      <td>1950000.0</td>\n",
       "    </tr>\n",
       "    <tr>\n",
       "      <th>27</th>\n",
       "      <td>Ахлах програм хөгжүүлэгч</td>\n",
       "      <td>3500000.0</td>\n",
       "    </tr>\n",
       "    <tr>\n",
       "      <th>28</th>\n",
       "      <td>Дата аналист</td>\n",
       "      <td>2300000.0</td>\n",
       "    </tr>\n",
       "    <tr>\n",
       "      <th>29</th>\n",
       "      <td>Утасны оператор сургаж авна.</td>\n",
       "      <td>1350000.0</td>\n",
       "    </tr>\n",
       "    <tr>\n",
       "      <th>30</th>\n",
       "      <td>Худалдааны зөвлөх_Cургаж авна</td>\n",
       "      <td>1100000.0</td>\n",
       "    </tr>\n",
       "    <tr>\n",
       "      <th>31</th>\n",
       "      <td>Систем админ</td>\n",
       "      <td>2300000.0</td>\n",
       "    </tr>\n",
       "    <tr>\n",
       "      <th>32</th>\n",
       "      <td>Програм хөгжүүлэгч</td>\n",
       "      <td>1650000.0</td>\n",
       "    </tr>\n",
       "    <tr>\n",
       "      <th>33</th>\n",
       "      <td>Мобайл хөгжүүлэгч</td>\n",
       "      <td>1650000.0</td>\n",
       "    </tr>\n",
       "    <tr>\n",
       "      <th>34</th>\n",
       "      <td>Програмын Ахлах хөгжүүлэгч</td>\n",
       "      <td>2300000.0</td>\n",
       "    </tr>\n",
       "    <tr>\n",
       "      <th>35</th>\n",
       "      <td>Санхүүгийн Ахлах мэргэжилтэн</td>\n",
       "      <td>2300000.0</td>\n",
       "    </tr>\n",
       "    <tr>\n",
       "      <th>36</th>\n",
       "      <td>МЭДЭЭЛЛИЙН ОПЕРАТОР</td>\n",
       "      <td>1100000.0</td>\n",
       "    </tr>\n",
       "    <tr>\n",
       "      <th>37</th>\n",
       "      <td>САЙТЫН АШИГЛАЛТ ХАРИУЦСАН ИНЖЕНЕР</td>\n",
       "      <td>1650000.0</td>\n",
       "    </tr>\n",
       "    <tr>\n",
       "      <th>38</th>\n",
       "      <td>СҮЛЖЭЭНИЙ ИНЖЕНЕР</td>\n",
       "      <td>1650000.0</td>\n",
       "    </tr>\n",
       "    <tr>\n",
       "      <th>39</th>\n",
       "      <td>ПРОГРАМ ХӨГЖҮҮЛЭГЧ</td>\n",
       "      <td>2750000.0</td>\n",
       "    </tr>\n",
       "    <tr>\n",
       "      <th>40</th>\n",
       "      <td>Дата инженер</td>\n",
       "      <td>3500000.0</td>\n",
       "    </tr>\n",
       "    <tr>\n",
       "      <th>41</th>\n",
       "      <td>Мэдээллийн ажилтан</td>\n",
       "      <td>1350000.0</td>\n",
       "    </tr>\n",
       "  </tbody>\n",
       "</table>\n",
       "</div>"
      ],
      "text/plain": [
       "                                       job_titles job_salary\n",
       "0                            ТӨЛӨВЛӨЛТИЙН ИНЖЕНЕР  2750000.0\n",
       "1                               Худалдааны зөвлөх  1650000.0\n",
       "2               ЦАГИЙН АЖИЛ /ТЭСО ИНВЕСТМЭНТ ХХК/   550000.0\n",
       "3                    МЭДЭЭЛЭЛ ТЕХНОЛОГИЙН АЖИЛТАН  1650000.0\n",
       "4                               IT System Analyst  2750000.0\n",
       "5                      Холбоо дохиололийн инженер  1650000.0\n",
       "6              Мэдээллийн аюулгүй байдлын шинжээч  3500000.0\n",
       "7                                 Төслийн менежер  1650000.0\n",
       "8                                 Төслийн менежер  1650000.0\n",
       "9                     ГРАФИК ДИЗАЙНЕР АЖИЛД АВНА.  2750000.0\n",
       "10                                       Оператор  1350000.0\n",
       "11                              Сүлжээний инженер  2750000.0\n",
       "12                             ПРОГРАМ ХӨГЖҮҮЛЭГЧ  3500000.0\n",
       "13                        Тестэр /Коор майнд ХХК/  1650000.0\n",
       "14         Мэдээлэл технологийн ажилтан /support/  1350000.0\n",
       "15                               ПиАр мэргэжилтэн  1950000.0\n",
       "16                               Шийдлийн инженер  2300000.0\n",
       "17                         Суурилуулалтын инженер  1950000.0\n",
       "18                           Хөгжүүлэгч /Backend/  3500000.0\n",
       "19                 Программ хангамжийн архитектор  5500000.0\n",
       "20                      Онлайн оператор (эмэгтэй)  1100000.0\n",
       "21                   IT инженер (Өмнөговь салбар)  1650000.0\n",
       "22                              ПРОГРАММ ТЕСТЛЭГЧ  1350000.0\n",
       "23            Дотоод аудитор /Мэдээлэл технологи/  2750000.0\n",
       "24  Төслийн менежер ажилд авна. /Солонгос хэлтэй/  1950000.0\n",
       "25                             Back end developer  2300000.0\n",
       "26                         Захиргааны мэргэжилтэн  1950000.0\n",
       "27                       Ахлах програм хөгжүүлэгч  3500000.0\n",
       "28                                   Дата аналист  2300000.0\n",
       "29                   Утасны оператор сургаж авна.  1350000.0\n",
       "30                  Худалдааны зөвлөх_Cургаж авна  1100000.0\n",
       "31                                   Систем админ  2300000.0\n",
       "32                             Програм хөгжүүлэгч  1650000.0\n",
       "33                              Мобайл хөгжүүлэгч  1650000.0\n",
       "34                     Програмын Ахлах хөгжүүлэгч  2300000.0\n",
       "35                   Санхүүгийн Ахлах мэргэжилтэн  2300000.0\n",
       "36                            МЭДЭЭЛЛИЙН ОПЕРАТОР  1100000.0\n",
       "37              САЙТЫН АШИГЛАЛТ ХАРИУЦСАН ИНЖЕНЕР  1650000.0\n",
       "38                              СҮЛЖЭЭНИЙ ИНЖЕНЕР  1650000.0\n",
       "39                             ПРОГРАМ ХӨГЖҮҮЛЭГЧ  2750000.0\n",
       "40                                   Дата инженер  3500000.0\n",
       "41                             Мэдээллийн ажилтан  1350000.0"
      ]
     },
     "execution_count": 47,
     "metadata": {},
     "output_type": "execute_result"
    }
   ],
   "source": [
    "df"
   ]
  },
  {
   "cell_type": "markdown",
   "id": "24e14f14-987b-4c11-9bfb-35c79e4a7215",
   "metadata": {},
   "source": [
    "### Exercise 2: Scrape `zangia.mn` Page#1 - Page#10\n",
    "* Make a dataframe using `Мэдээлэл технологи, Харилцаа холбоо` category `https://www.zangia.mn/job/list/pg.1/b.4`.\n",
    "* Get job listings from page 1-10. *Hint* Loop over the list of pages\n",
    "* Make a dataframe and make a histogram plot using `salary` column."
   ]
  },
  {
   "cell_type": "code",
   "execution_count": null,
   "id": "1b6ff87d-f1c8-456f-97f8-06a2fafacd0d",
   "metadata": {},
   "outputs": [],
   "source": [
    "# Your code"
   ]
  },
  {
   "cell_type": "markdown",
   "id": "928cbf46-a110-43f1-847a-788846efe1f8",
   "metadata": {},
   "source": [
    "### Exercise 3: Scrape `zangia.mn` Page#1 - Page#7\n",
    "* Make a dataframe using `Захиргаа, Хүний нөөц` category `https://www.zangia.mn/job/list/pg.1/b.36`.\n",
    "* Get job listings from page 1-7.\n",
    "* Make a dataframe and make a histogram plot using `salary` column.\n",
    "\n",
    "**WARNING** MAKE SURE YOUR LINKS ARE CORRECT!"
   ]
  },
  {
   "cell_type": "code",
   "execution_count": null,
   "id": "d8f744d3-5e8c-4bbd-900e-e7b31502eadf",
   "metadata": {},
   "outputs": [],
   "source": [
    "# Your code"
   ]
  }
 ],
 "metadata": {
  "kernelspec": {
   "display_name": "Python 3 (ipykernel)",
   "language": "python",
   "name": "python3"
  },
  "language_info": {
   "codemirror_mode": {
    "name": "ipython",
    "version": 3
   },
   "file_extension": ".py",
   "mimetype": "text/x-python",
   "name": "python",
   "nbconvert_exporter": "python",
   "pygments_lexer": "ipython3",
   "version": "3.8.17"
  }
 },
 "nbformat": 4,
 "nbformat_minor": 5
}
