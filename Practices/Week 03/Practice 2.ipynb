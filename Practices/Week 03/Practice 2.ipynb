{
 "cells": [
  {
   "cell_type": "markdown",
   "id": "78b31c65-89e4-4751-a75a-57cdf66fea7b",
   "metadata": {},
   "source": [
    "### Part 1: Animal Class\n",
    "\n",
    "1. Define an `Animal` class with the following attributes:\n",
    "    * `name`: a string representing the animal's name.\n",
    "    * `species`: a string representing the animal's species.\n",
    "    * `age`: an integer representing the animal's age.\n",
    "\n",
    "   And the following methods:\n",
    "   * A `__str__` method to return the animal's name when printed."
   ]
  },
  {
   "cell_type": "code",
   "execution_count": 4,
   "id": "b7630a98-2d27-4eef-a572-be682a61e7f8",
   "metadata": {},
   "outputs": [],
   "source": [
    "# Part 1: Animal Class\n",
    "\n",
    "class Animal:\n",
    "    def __init__(self, name, species, age):\n",
    "        self.name = name\n",
    "        self.species = species\n",
    "        self.age = age\n",
    "    \n",
    "    def __str__(self):\n",
    "        return f'Animal Name: {self.name}'"
   ]
  },
  {
   "cell_type": "code",
   "execution_count": 5,
   "id": "b115ce08-6433-4ba1-9e94-b782272dc089",
   "metadata": {},
   "outputs": [],
   "source": [
    "dog = Animal('boya', 'human', 2)"
   ]
  },
  {
   "cell_type": "code",
   "execution_count": 7,
   "id": "f7242803-0c73-42de-9f10-4d0cf2c1adbf",
   "metadata": {},
   "outputs": [
    {
     "name": "stdout",
     "output_type": "stream",
     "text": [
      "Animal Name: boya\n"
     ]
    }
   ],
   "source": [
    "print(dog.__str__())"
   ]
  },
  {
   "cell_type": "markdown",
   "id": "e392f19b-728b-451d-a81a-d8cc78f8358a",
   "metadata": {},
   "source": [
    "### Part 2: Mammal, Bird, and Fish Classes\n",
    "\n",
    "1. Create three subclasses: `Mammal`, `Bird`, and `Fish`. Each should inherit from the `Animal` class.\n",
    "\n",
    "   Additional attributes:\n",
    "   * `Mammal` should have `legs` (number of legs) and `is_domesticated` (boolean).\n",
    "   * `Bird` should have `wingspan` (in meters) and `can_fly` (boolean).\n",
    "   * `Fish` should have `fins` (number of fins) and `is_freshwater` (boolean).\n",
    "\n",
    "   Each subclass should also override the `__str__` method to provide more detailed information about the animal.\n",
    "   \n",
    "   name such"
   ]
  },
  {
   "cell_type": "code",
   "execution_count": 10,
   "id": "f50b5009-5388-4d06-a70b-6ea407a15c54",
   "metadata": {},
   "outputs": [],
   "source": [
    "# Part 2: Mammal, Bird, and Fish Classes\n",
    "\n",
    "class Mammal(Animal):\n",
    "    def __init__(self, legs, is_domesticated, name, species, age):\n",
    "        super().__init__(name, species, age)\n",
    "        self.legs = legs\n",
    "        self.is_domesticated = is_domesticated\n",
    "    def __str__(self):\n",
    "        print('Details ', self.legs, self.is_domesticated, self.name, self.species, self.age)\n",
    "\n",
    "class Bird(Animal):\n",
    "    def __init__(self, wingspan, can_fly, name, species, age):\n",
    "        super().__init__(name, species, age)\n",
    "        self.wingspan = wingspan\n",
    "        self.can_fly = can_fly\n",
    "        \n",
    "class Fish(Animal):\n",
    "    def __init__(self, fins, is_freshwater, name, species, age):\n",
    "        super().__init__(name, species, age)\n",
    "        self.fins = fins\n",
    "        self.is_freshwater = is_freshwater"
   ]
  },
  {
   "cell_type": "code",
   "execution_count": 11,
   "id": "4a833069-360b-4dad-9b8d-9bc01c2a2143",
   "metadata": {},
   "outputs": [],
   "source": [
    "blue_whale = Mammal(0, 'idk', 'tsenheree', 'whale', 100)"
   ]
  },
  {
   "cell_type": "code",
   "execution_count": 12,
   "id": "3b2d8d29-09c9-466b-a1a6-a9feacaec0ee",
   "metadata": {},
   "outputs": [
    {
     "data": {
      "text/plain": [
       "'Animal Name: tsenheree'"
      ]
     },
     "execution_count": 12,
     "metadata": {},
     "output_type": "execute_result"
    }
   ],
   "source": [
    "blue_whale.__str__()"
   ]
  },
  {
   "cell_type": "markdown",
   "id": "0b4d42a4-02c5-4789-8762-0be3ab3acc62",
   "metadata": {},
   "source": [
    "### Part 3: Zoo Class\n",
    "\n",
    "1. Define a `Zoo` class with the following attributes:\n",
    "    * `name`: a string representing the zoo's name.\n",
    "    * `animals`: a list containing instances of the animal classes.\n",
    "\n",
    "   And the following methods:\n",
    "   * `add_animal(self, animal)`: A method to add an animal to the zoo.\n",
    "   * `remove_animal(self, name)`: A method to remove an animal from the zoo using its name.\n",
    "   * `find_animal(self, name)`: A method to find an animal by its name. If the animal is found, print its details, otherwise print \"Animal not found.\"\n",
    "   * `list_animals(self)`: A method to print all the animals in the zoo."
   ]
  },
  {
   "cell_type": "code",
   "execution_count": 20,
   "id": "a75a5c83-acdf-46bc-9d87-48a31a6ed9c2",
   "metadata": {},
   "outputs": [],
   "source": [
    "# Part 3: Zoo Class\n",
    "\n",
    "class Zoo(Mammal, Bird, Fish):\n",
    "    zoo = []\n",
    "    def __init__(self, name, animals):\n",
    "        self.animals = animals\n",
    "        self.name = name\n",
    "        \n",
    "    def add_animal(self, animal):\n",
    "        zoo.append(animal)\n",
    "        \n",
    "    def remove_animal(self, name):\n",
    "        self.animals.remove(name)\n",
    "        \n",
    "    def find_animal(self, name):\n",
    "        if self.name in self.animals:\n",
    "            print(self.name.__str__())\n",
    "            \n",
    "        else: print('Animal not Found')\n",
    "    \n",
    "            \n"
   ]
  },
  {
   "cell_type": "markdown",
   "id": "84283f4f-3e95-4cf0-9966-0bc5493c8c7b",
   "metadata": {},
   "source": [
    "### Part 4: Putting It All Together\n",
    "\n",
    "1. Create instances of `Mammal`(Dog named \"Buddy\"), `Bird`(Bird named \"Eagle Eye\"), and `Fish`(Fish named \"Goldie\").\n",
    "2. Create an instance of the `Zoo` class.\n",
    "3. Add the animals to the zoo.\n",
    "4. List all the animals in the zoo.\n",
    "5. Find an animal named \"Buddy\"\n",
    "6. Remove an animal named \"Goldie\".\n",
    "7. List all the animals in the zoo and check if \"Goldie\" is removed."
   ]
  },
  {
   "cell_type": "code",
   "execution_count": 21,
   "id": "1fcc4979-c6d2-461e-a14b-244cb12aad91",
   "metadata": {},
   "outputs": [],
   "source": [
    "# Part 4: Tests\n"
   ]
  },
  {
   "cell_type": "code",
   "execution_count": null,
   "id": "ef7d1e3e-5f28-4a04-bc0b-be32ae026a1c",
   "metadata": {},
   "outputs": [],
   "source": []
  }
 ],
 "metadata": {
  "kernelspec": {
   "display_name": "Python 3",
   "language": "python",
   "name": "python3"
  },
  "language_info": {
   "codemirror_mode": {
    "name": "ipython",
    "version": 3
   },
   "file_extension": ".py",
   "mimetype": "text/x-python",
   "name": "python",
   "nbconvert_exporter": "python",
   "pygments_lexer": "ipython3",
   "version": "3.8.12"
  }
 },
 "nbformat": 4,
 "nbformat_minor": 5
}
