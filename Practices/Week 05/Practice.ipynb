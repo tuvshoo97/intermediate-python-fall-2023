{
 "cells": [
  {
   "cell_type": "markdown",
   "id": "17e20698-184e-4b73-a474-64c1a5cf7a15",
   "metadata": {
    "tags": []
   },
   "source": [
    "### Exercise 1:\n",
    "Objective: Make unit tests on a `employee` module. Use `sample_employees.csv`\n",
    "* Create a separate `tester.py` module.\n",
    "  * Import pandas\n",
    "  * Import `employee` module\n",
    "  * Create a class named `TestEmployee`. Don't forget to import `unittest` module and inherit from it.\n",
    "  * Write a test function that checks if a `get_fullname` function from `employee` returns lower case names. Example: \"Bob Marley\" should return \"bob marley\". *Hint*: use `assertTrue` and `islower()`\n",
    "  * Write a test function. Get `average` salary from `sample_employees.csv` and check if `get_average` function from `employee` module returns the same result.\n",
    "  \n",
    "| Method                      | Checks that              |\n",
    "|-----------------------------|--------------------------|\n",
    "| assertEqual(a,   b)         | a   ==   b               |\n",
    "| assertNotEqual(a,   b)      | a   !=   b               |\n",
    "| assertTrue(x)               | bool(x)   is   True      |\n",
    "| assertFalse(x)              | bool(x)   is   False     |\n",
    "| assertIs(a,   b)            | a   is   b               |\n",
    "| assertIsNot(a,   b)         | a   is   not   b         |\n",
    "| assertIsNone(x)             | x   is   None            |\n",
    "| assertIsNotNone(x)          | x   is   not   None      |\n",
    "| assertIn(a,   b)            | a   in   b               |\n",
    "| assertNotIn(a,   b)         | a   not   in   b         |\n",
    "| assertIsInstance(a,   b)    | isinstance(a,   b)       |\n",
    "| assertNotIsInstance(a,   b) | not   isinstance(a,   b) |"
   ]
  },
  {
   "cell_type": "code",
   "execution_count": 6,
   "id": "23a0a8ba-77af-41d7-ae8a-65380706fa75",
   "metadata": {},
   "outputs": [
    {
     "name": "stdout",
     "output_type": "stream",
     "text": [
      "..\n",
      "----------------------------------------------------------------------\n",
      "Ran 2 tests in 0.002s\n",
      "\n",
      "OK\n"
     ]
    }
   ],
   "source": [
    "!python tester.py"
   ]
  },
  {
   "cell_type": "markdown",
   "id": "aef5bad7-ecf4-4766-91b5-e1386d896b75",
   "metadata": {},
   "source": [
    "### Exercise 2:\n",
    "Objective: Make unit tests on a `student` module. Use `sample_students.csv`\n",
    "* Import student\n",
    "* Create a separate *class* in `tester.py` module.\n",
    "  * Create a class named `TestStudent`.\n",
    "  * Write a test function. Get a maximum `grade` from `sample_students.csv` using pandas `.max()` method. And check if it matches `get_max_grade` function from `student` module. Use `grade` column to test.\n",
    "  * Write a test function. Get a minimum `grade` from `sample_students.csv` using pandas `.min()` method. And check if it matches `get_min_grade` function from `employee` module. Use `grade` column to test.\n",
    "\n",
    "* Setup a `setUpClass` and `tearDownClass` in both `TestEmployee` and `TestStudent` classes. \n",
    "  * In both `setUpClass`, print out the name of the class and its status. Example: \"MyTest test started\"\n",
    "  * In both `tearDownClass` print out the name of the class and its status. Example: \"MyTest test ended\"\n",
    "* Read both employees_df as `sample_employees.csv` and students_df `sample_students.csv` at the start of each test. Use `setUp`."
   ]
  },
  {
   "cell_type": "code",
   "execution_count": 17,
   "id": "8e983234-258b-410f-a689-642c4e047159",
   "metadata": {},
   "outputs": [
    {
     "name": "stderr",
     "output_type": "stream",
     "text": [
      "...."
     ]
    },
    {
     "name": "stdout",
     "output_type": "stream",
     "text": [
      "MyTest test started \n",
      "\n",
      "setUp\n",
      "testing get_max_grade...\n",
      "tearDown \n",
      "\n",
      "setUp\n",
      "testing get_min_grade...\n",
      "tearDown \n",
      "\n",
      "MyTest test ended\n"
     ]
    },
    {
     "name": "stderr",
     "output_type": "stream",
     "text": [
      "\n",
      "----------------------------------------------------------------------\n",
      "Ran 4 tests in 0.016s\n",
      "\n",
      "OK\n"
     ]
    }
   ],
   "source": [
    "import student\n",
    "import unittest\n",
    "import pandas as pd\n",
    "import employee\n",
    "class TestStudent(unittest.TestCase):\n",
    "    @classmethod\n",
    "    def setUpClass(cls):\n",
    "        print(\"MyTest test started \\n\")\n",
    "\n",
    "    @classmethod\n",
    "    def tearDownClass(cls):\n",
    "        print(\"MyTest test ended\")\n",
    "\n",
    "    def tearDown(self):\n",
    "        print(\"tearDown \\n\")\n",
    "        \n",
    "    def setUp(self):\n",
    "        print(\"setUp\")\n",
    "        self.students_df = pd.read_csv('sample_students.csv')\n",
    "        \n",
    "    def test_max_grade(self):\n",
    "        print('testing get_max_grade...')\n",
    "        #Saving salary from data df\n",
    "        grade = self.students_df.grade\n",
    "        #Saving get_average function's result\n",
    "        result = student.get_max_grade(grade)\n",
    "        self.assertEqual(result, grade.max())\n",
    "    \n",
    "    def test_min_grade(self):\n",
    "        print('testing get_min_grade...')\n",
    "        #Saving salary from data df\n",
    "        grade = self.students_df.grade\n",
    "        #Saving get_average function's result\n",
    "        result = student.get_min_grade(grade)\n",
    "        self.assertEqual(result, grade.min())\n",
    "        \n",
    "if __name__ == '__main__':\n",
    "    unittest.main(argv=['first-arg-is-ignored'], exit=False)"
   ]
  },
  {
   "cell_type": "code",
   "execution_count": 32,
   "id": "c0694579-2c7c-47ed-b09b-a8415072f166",
   "metadata": {},
   "outputs": [
    {
     "name": "stdout",
     "output_type": "stream",
     "text": [
      "My Test on employee test started \n",
      "\n",
      "setUp\n",
      "testing get_average function...\n",
      "tearDown \n",
      "\n",
      ".setUp\n",
      "testing get_fullname function...\n",
      "tearDown \n",
      "\n",
      ".MyTest test on employee ended \n",
      "\n",
      "My Test on student started \n",
      "\n",
      "setUp\n",
      "testing get_max_grade...\n",
      "tearDown \n",
      "\n",
      ".setUp\n",
      "testing get_min_grade...\n",
      "tearDown \n",
      "\n",
      ".My Test on student ended \n",
      "\n",
      "\n",
      "----------------------------------------------------------------------\n",
      "Ran 4 tests in 0.004s\n",
      "\n",
      "OK\n"
     ]
    }
   ],
   "source": [
    "!python tester.py"
   ]
  },
  {
   "cell_type": "code",
   "execution_count": null,
   "id": "48d391e3-cf15-4e23-9b09-b41881594647",
   "metadata": {},
   "outputs": [],
   "source": []
  }
 ],
 "metadata": {
  "kernelspec": {
   "display_name": "Python 3",
   "language": "python",
   "name": "python3"
  },
  "language_info": {
   "codemirror_mode": {
    "name": "ipython",
    "version": 3
   },
   "file_extension": ".py",
   "mimetype": "text/x-python",
   "name": "python",
   "nbconvert_exporter": "python",
   "pygments_lexer": "ipython3",
   "version": "3.8.12"
  }
 },
 "nbformat": 4,
 "nbformat_minor": 5
}
