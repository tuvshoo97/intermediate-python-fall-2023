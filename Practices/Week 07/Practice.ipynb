{
 "cells": [
  {
   "cell_type": "code",
   "execution_count": 1,
   "id": "d5895f58-8548-4075-9530-a1192a3a0dd9",
   "metadata": {
    "collapsed": true,
    "jupyter": {
     "outputs_hidden": true
    },
    "tags": []
   },
   "outputs": [
    {
     "name": "stdout",
     "output_type": "stream",
     "text": [
      "Requirement already satisfied: streamlit in c:\\users\\amarbayan\\appdata\\roaming\\jupyterlab-desktop\\jlab_server\\lib\\site-packages (1.13.0)\n",
      "Requirement already satisfied: semver in c:\\users\\amarbayan\\appdata\\roaming\\jupyterlab-desktop\\jlab_server\\lib\\site-packages (from streamlit) (2.13.0)\n",
      "Requirement already satisfied: packaging>=14.1 in c:\\users\\amarbayan\\appdata\\roaming\\jupyterlab-desktop\\jlab_server\\lib\\site-packages (from streamlit) (21.3)\n",
      "Requirement already satisfied: pillow>=6.2.0 in c:\\users\\amarbayan\\appdata\\roaming\\jupyterlab-desktop\\jlab_server\\lib\\site-packages (from streamlit) (9.2.0)\n",
      "Requirement already satisfied: pandas>=0.21.0 in c:\\users\\amarbayan\\appdata\\roaming\\jupyterlab-desktop\\jlab_server\\lib\\site-packages (from streamlit) (1.4.3)\n",
      "Requirement already satisfied: requests>=2.4 in c:\\users\\amarbayan\\appdata\\roaming\\jupyterlab-desktop\\jlab_server\\lib\\site-packages (from streamlit) (2.28.1)\n",
      "Requirement already satisfied: pympler>=0.9 in c:\\users\\amarbayan\\appdata\\roaming\\jupyterlab-desktop\\jlab_server\\lib\\site-packages (from streamlit) (1.0.1)\n",
      "Requirement already satisfied: importlib-metadata>=1.4 in c:\\users\\amarbayan\\appdata\\roaming\\jupyterlab-desktop\\jlab_server\\lib\\site-packages (from streamlit) (4.11.4)\n",
      "Requirement already satisfied: python-dateutil in c:\\users\\amarbayan\\appdata\\roaming\\jupyterlab-desktop\\jlab_server\\lib\\site-packages (from streamlit) (2.8.2)\n",
      "Requirement already satisfied: toml in c:\\users\\amarbayan\\appdata\\roaming\\jupyterlab-desktop\\jlab_server\\lib\\site-packages (from streamlit) (0.10.2)\n",
      "Requirement already satisfied: blinker>=1.0.0 in c:\\users\\amarbayan\\appdata\\roaming\\jupyterlab-desktop\\jlab_server\\lib\\site-packages (from streamlit) (1.5)\n",
      "Requirement already satisfied: cachetools>=4.0 in c:\\users\\amarbayan\\appdata\\roaming\\jupyterlab-desktop\\jlab_server\\lib\\site-packages (from streamlit) (5.2.0)\n",
      "Requirement already satisfied: typing-extensions>=3.10.0.0 in c:\\users\\amarbayan\\appdata\\roaming\\jupyterlab-desktop\\jlab_server\\lib\\site-packages (from streamlit) (4.3.0)\n",
      "Requirement already satisfied: protobuf!=3.20.2,<4,>=3.12 in c:\\users\\amarbayan\\appdata\\roaming\\jupyterlab-desktop\\jlab_server\\lib\\site-packages (from streamlit) (3.20.3)\n",
      "Requirement already satisfied: gitpython!=3.1.19 in c:\\users\\amarbayan\\appdata\\roaming\\jupyterlab-desktop\\jlab_server\\lib\\site-packages (from streamlit) (3.1.29)\n",
      "Requirement already satisfied: tornado>=5.0 in c:\\users\\amarbayan\\appdata\\roaming\\jupyterlab-desktop\\jlab_server\\lib\\site-packages (from streamlit) (6.2)\n",
      "Requirement already satisfied: tzlocal>=1.1 in c:\\users\\amarbayan\\appdata\\roaming\\jupyterlab-desktop\\jlab_server\\lib\\site-packages (from streamlit) (4.2)\n",
      "Requirement already satisfied: altair>=3.2.0 in c:\\users\\amarbayan\\appdata\\roaming\\jupyterlab-desktop\\jlab_server\\lib\\site-packages (from streamlit) (4.2.0)\n",
      "Requirement already satisfied: numpy in c:\\users\\amarbayan\\appdata\\roaming\\jupyterlab-desktop\\jlab_server\\lib\\site-packages (from streamlit) (1.23.2)\n",
      "Requirement already satisfied: pyarrow>=4.0 in c:\\users\\amarbayan\\appdata\\roaming\\jupyterlab-desktop\\jlab_server\\lib\\site-packages (from streamlit) (9.0.0)\n",
      "Requirement already satisfied: pydeck>=0.1.dev5 in c:\\users\\amarbayan\\appdata\\roaming\\jupyterlab-desktop\\jlab_server\\lib\\site-packages (from streamlit) (0.8.0b4)\n",
      "Requirement already satisfied: watchdog in c:\\users\\amarbayan\\appdata\\roaming\\jupyterlab-desktop\\jlab_server\\lib\\site-packages (from streamlit) (2.1.9)\n",
      "Requirement already satisfied: rich>=10.11.0 in c:\\users\\amarbayan\\appdata\\roaming\\jupyterlab-desktop\\jlab_server\\lib\\site-packages (from streamlit) (12.6.0)\n",
      "Requirement already satisfied: validators>=0.2 in c:\\users\\amarbayan\\appdata\\roaming\\jupyterlab-desktop\\jlab_server\\lib\\site-packages (from streamlit) (0.20.0)\n",
      "Requirement already satisfied: click>=7.0 in c:\\users\\amarbayan\\appdata\\roaming\\jupyterlab-desktop\\jlab_server\\lib\\site-packages (from streamlit) (8.1.3)\n",
      "Requirement already satisfied: toolz in c:\\users\\amarbayan\\appdata\\roaming\\jupyterlab-desktop\\jlab_server\\lib\\site-packages (from altair>=3.2.0->streamlit) (0.12.0)\n",
      "Requirement already satisfied: entrypoints in c:\\users\\amarbayan\\appdata\\roaming\\jupyterlab-desktop\\jlab_server\\lib\\site-packages (from altair>=3.2.0->streamlit) (0.4)\n",
      "Requirement already satisfied: jsonschema>=3.0 in c:\\users\\amarbayan\\appdata\\roaming\\jupyterlab-desktop\\jlab_server\\lib\\site-packages (from altair>=3.2.0->streamlit) (4.14.0)\n",
      "Requirement already satisfied: jinja2 in c:\\users\\amarbayan\\appdata\\roaming\\jupyterlab-desktop\\jlab_server\\lib\\site-packages (from altair>=3.2.0->streamlit) (3.1.2)\n",
      "Requirement already satisfied: colorama in c:\\users\\amarbayan\\appdata\\roaming\\jupyterlab-desktop\\jlab_server\\lib\\site-packages (from click>=7.0->streamlit) (0.4.5)\n",
      "Requirement already satisfied: gitdb<5,>=4.0.1 in c:\\users\\amarbayan\\appdata\\roaming\\jupyterlab-desktop\\jlab_server\\lib\\site-packages (from gitpython!=3.1.19->streamlit) (4.0.9)\n",
      "Requirement already satisfied: zipp>=0.5 in c:\\users\\amarbayan\\appdata\\roaming\\jupyterlab-desktop\\jlab_server\\lib\\site-packages (from importlib-metadata>=1.4->streamlit) (3.8.1)\n",
      "Requirement already satisfied: pyparsing!=3.0.5,>=2.0.2 in c:\\users\\amarbayan\\appdata\\roaming\\jupyterlab-desktop\\jlab_server\\lib\\site-packages (from packaging>=14.1->streamlit) (3.0.9)\n",
      "Requirement already satisfied: pytz>=2020.1 in c:\\users\\amarbayan\\appdata\\roaming\\jupyterlab-desktop\\jlab_server\\lib\\site-packages (from pandas>=0.21.0->streamlit) (2022.2.1)\n",
      "Requirement already satisfied: six>=1.5 in c:\\users\\amarbayan\\appdata\\roaming\\jupyterlab-desktop\\jlab_server\\lib\\site-packages (from python-dateutil->streamlit) (1.16.0)\n",
      "Requirement already satisfied: idna<4,>=2.5 in c:\\users\\amarbayan\\appdata\\roaming\\jupyterlab-desktop\\jlab_server\\lib\\site-packages (from requests>=2.4->streamlit) (3.3)\n",
      "Requirement already satisfied: charset-normalizer<3,>=2 in c:\\users\\amarbayan\\appdata\\roaming\\jupyterlab-desktop\\jlab_server\\lib\\site-packages (from requests>=2.4->streamlit) (2.1.1)\n",
      "Requirement already satisfied: urllib3<1.27,>=1.21.1 in c:\\users\\amarbayan\\appdata\\roaming\\jupyterlab-desktop\\jlab_server\\lib\\site-packages (from requests>=2.4->streamlit) (1.26.11)\n",
      "Requirement already satisfied: certifi>=2017.4.17 in c:\\users\\amarbayan\\appdata\\roaming\\jupyterlab-desktop\\jlab_server\\lib\\site-packages (from requests>=2.4->streamlit) (2022.6.15)\n",
      "Requirement already satisfied: pygments<3.0.0,>=2.6.0 in c:\\users\\amarbayan\\appdata\\roaming\\jupyterlab-desktop\\jlab_server\\lib\\site-packages (from rich>=10.11.0->streamlit) (2.13.0)\n",
      "Requirement already satisfied: commonmark<0.10.0,>=0.9.0 in c:\\users\\amarbayan\\appdata\\roaming\\jupyterlab-desktop\\jlab_server\\lib\\site-packages (from rich>=10.11.0->streamlit) (0.9.1)\n",
      "Requirement already satisfied: pytz-deprecation-shim in c:\\users\\amarbayan\\appdata\\roaming\\jupyterlab-desktop\\jlab_server\\lib\\site-packages (from tzlocal>=1.1->streamlit) (0.1.0.post0)\n",
      "Requirement already satisfied: tzdata in c:\\users\\amarbayan\\appdata\\roaming\\jupyterlab-desktop\\jlab_server\\lib\\site-packages (from tzlocal>=1.1->streamlit) (2022.5)\n",
      "Requirement already satisfied: backports.zoneinfo in c:\\users\\amarbayan\\appdata\\roaming\\jupyterlab-desktop\\jlab_server\\lib\\site-packages (from tzlocal>=1.1->streamlit) (0.2.1)\n",
      "Requirement already satisfied: decorator>=3.4.0 in c:\\users\\amarbayan\\appdata\\roaming\\jupyterlab-desktop\\jlab_server\\lib\\site-packages (from validators>=0.2->streamlit) (5.1.1)\n",
      "Requirement already satisfied: smmap<6,>=3.0.1 in c:\\users\\amarbayan\\appdata\\roaming\\jupyterlab-desktop\\jlab_server\\lib\\site-packages (from gitdb<5,>=4.0.1->gitpython!=3.1.19->streamlit) (5.0.0)\n",
      "Requirement already satisfied: MarkupSafe>=2.0 in c:\\users\\amarbayan\\appdata\\roaming\\jupyterlab-desktop\\jlab_server\\lib\\site-packages (from jinja2->altair>=3.2.0->streamlit) (2.1.1)\n",
      "Requirement already satisfied: importlib-resources>=1.4.0 in c:\\users\\amarbayan\\appdata\\roaming\\jupyterlab-desktop\\jlab_server\\lib\\site-packages (from jsonschema>=3.0->altair>=3.2.0->streamlit) (5.9.0)\n",
      "Requirement already satisfied: attrs>=17.4.0 in c:\\users\\amarbayan\\appdata\\roaming\\jupyterlab-desktop\\jlab_server\\lib\\site-packages (from jsonschema>=3.0->altair>=3.2.0->streamlit) (22.1.0)\n",
      "Requirement already satisfied: pyrsistent!=0.17.0,!=0.17.1,!=0.17.2,>=0.14.0 in c:\\users\\amarbayan\\appdata\\roaming\\jupyterlab-desktop\\jlab_server\\lib\\site-packages (from jsonschema>=3.0->altair>=3.2.0->streamlit) (0.18.1)\n",
      "Requirement already satisfied: pkgutil-resolve-name>=1.3.10 in c:\\users\\amarbayan\\appdata\\roaming\\jupyterlab-desktop\\jlab_server\\lib\\site-packages (from jsonschema>=3.0->altair>=3.2.0->streamlit) (1.3.10)\n"
     ]
    }
   ],
   "source": [
    "!pip install streamlit"
   ]
  },
  {
   "cell_type": "code",
   "execution_count": 1,
   "id": "a4d02476-abff-4b08-8c5d-ff9f9c4dbbfc",
   "metadata": {},
   "outputs": [
    {
     "name": "stdout",
     "output_type": "stream",
     "text": [
      "Requirement already satisfied: joblib in /Users/amarbayanaltangerel/Library/jupyterlab-desktop/jlab_server/lib/python3.8/site-packages (1.3.2)\n"
     ]
    }
   ],
   "source": [
    "!pip install joblib"
   ]
  },
  {
   "cell_type": "code",
   "execution_count": null,
   "id": "c0437ada-b50b-4dc8-ac0e-f02e3ee1f606",
   "metadata": {},
   "outputs": [],
   "source": [
    "!pip install scikit-learn"
   ]
  },
  {
   "cell_type": "markdown",
   "id": "aeb2d24a-d3dd-4a3f-bb2c-efea0870fc19",
   "metadata": {
    "tags": []
   },
   "source": [
    "### Exercise #1: Create a web app to predict `Iris` flower\n",
    "#### Streamlit documentation: https://docs.streamlit.io/library/api-reference\n",
    "* Create input fields where a user can enter flower attributes.\n",
    "  * Inputs are in *centimeters*: `sepal length`, `sepal width`, `petal length`, and `petal width`, \n",
    "  * Inputs can not be greater than 15 or negative number.\n",
    "* Create a button to get the inputs and predict\n",
    "* Use the inputs to predict a flower type.\n",
    "  The model was exported with the `joblib` library, and you can use the following code to load the model:\n",
    "\n",
    "  ``` python\n",
    "  # import the load method from joblib\n",
    "  from joblib import load\n",
    "\n",
    "  model = load('data/iris_model.joblib')\n",
    "\n",
    "  # Inference code. \n",
    "  # The input array is in double brackets because it is 1 dimensional\n",
    "  prediction = model.predict([[1,2,3,4]])\n",
    "  ```\n",
    "\n",
    "  The prediction will be an array with an integer value, which is the predicted class. They are as follows:\n",
    "  - 0: Iris Setosa\n",
    "  - 1: Iris Versicolour\n",
    "  - 2: Iris Virginica\n",
    "  \n",
    "  For your own reference here are the four input variables and their common ranges. These are listed by position of their input. \n",
    "  - 0: sepal length in cm\n",
    "  - 1: sepal width in cm\n",
    "  - 2: petal length in cm\n",
    "  - 3: petal width in cm\n",
    "\n",
    "* Output a predicted flower type as an image. Use the images from `images` folder.\n",
    "\n",
    "![setosa](images/iris_setosa.png)\n",
    "![setosa](images/iris_versicolor.png)\n",
    "![setosa](images/iris_virginica.png)\n",
    "\n",
    "\n"
   ]
  },
  {
   "cell_type": "markdown",
   "id": "76bf1c3e-a103-411a-8ecd-f85426dba5b4",
   "metadata": {},
   "source": [
    "### Exercise #2\n",
    "* Make 2 columns using `st.columns`\n",
    "  * Put sepal inputs in the first column\n",
    "  * Put petal inputs in the second column\n",
    "* Display *predict* button and *output image* in the center using `st.columns`"
   ]
  },
  {
   "cell_type": "markdown",
   "id": "7a394500-10c7-432e-b238-9f2b08b1c44f",
   "metadata": {},
   "source": [
    "### Exercise #3\n",
    "* Deploy your application to the Streamlit Community Cloud.\n",
    "\n",
    "**Steps to deploy**:\n",
    "1. Sign in using your **Github account**. **https://docs.streamlit.io/streamlit-community-cloud/get-started/quickstart**\n",
    "2. Create a repository in your github account\n",
    "3. Upload your local app files to your github repository\n",
    "   * You additionally need to have **requirements.txt** file\n",
    "        * The packages to be installed are: `joblib`, `scikit-learn`\n",
    "5. Connect your github repository to the Streamlit Community Cloud to publish your app. **https://docs.streamlit.io/streamlit-community-cloud/deploy-your-app**"
   ]
  },
  {
   "cell_type": "code",
   "execution_count": null,
   "id": "13c58c1d-43cc-4ccd-96a7-f8a4040a9f49",
   "metadata": {},
   "outputs": [],
   "source": []
  }
 ],
 "metadata": {
  "kernelspec": {
   "display_name": "Python 3 (ipykernel)",
   "language": "python",
   "name": "python3"
  },
  "language_info": {
   "codemirror_mode": {
    "name": "ipython",
    "version": 3
   },
   "file_extension": ".py",
   "mimetype": "text/x-python",
   "name": "python",
   "nbconvert_exporter": "python",
   "pygments_lexer": "ipython3",
   "version": "3.8.17"
  }
 },
 "nbformat": 4,
 "nbformat_minor": 5
}
